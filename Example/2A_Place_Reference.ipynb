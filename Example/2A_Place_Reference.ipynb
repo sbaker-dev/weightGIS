{
 "cells": [
  {
   "cell_type": "markdown",
   "source": [
    "# Place Reference \n",
    "\n",
    "When using lots of different data sets it is possible to end up with differing naming systems, for example using welsh\n",
    "names rather than english for places in Wales or just places changing their names over time. To fix this we need to \n",
    "create a place reference, which will allow any name for a given place to be linked back to a single standardised name \n",
    "for our system. This means that we can merge in lots of different data-sets but maintain cohesion.\n",
    "\n",
    "In this example we will be assuming we had data at a sub-unit level, and we want to create a link between our sub-units\n",
    "and units over the time period. We will be using shapefiles from ReferenceCreation, which we set as a 'parish', and our\n",
    "shapefiles we used in tutorial 1 as our 'districts'. We create a class object called ref_holder with the directory to \n",
    "save to as well as the names of our sub units and units, then link these places.\n",
    "\n",
    "You will see that we get some Ambiguous Relations. This is done on purpose, as for a unique reference to work each place\n",
    "can only have a single link to a single place. So parishes must be nested within districts etc. If you have data that \n",
    "does not allow for this, you will need to consider a different way of constructing your reference. Here we will assume\n",
    "that these ambiguous relations are from minor errors in the shapefile.\n"
   ],
   "metadata": {
    "collapsed": false,
    "pycharm": {
     "name": "#%% md\n"
    }
   }
  },
  {
   "cell_type": "code",
   "execution_count": 1,
   "outputs": [
    {
     "name": "stdout",
     "text": [
      "Ambiguous Relationship found for Denvialg in 1951 for Districts ['Ecanlor', 'Danlhigh']\n",
      "Ambiguous Relationship found for Nalmacn in 1951 for Districts ['Ecanlor', 'Danlhigh']\n",
      "Ambiguous Relationship found for Nebahekal in 1951 for Districts ['Ecanlor', 'Danlhigh']\n",
      "Please validate the 3 ambiguous relations before proceeding by creating a filecalled 'SetAmbiguous.csv' where there is now only a single relation for each ambiguous link\n"
     ],
     "output_type": "stream"
    }
   ],
   "source": [
    "from weightGIS import PlaceReference\n",
    "parish = \"ExampleData/ReferenceCreation\"\n",
    "districts = \"ExampleData/Shapefiles\"\n",
    "\n",
    "ref_holder = PlaceReference(\"ExampleData/ReferenceOutput\", \"Parish\", \"Districts\")\n",
    "\n",
    "ref_holder.link_places(parish, districts, 0, 1, 1)"
   ],
   "metadata": {
    "collapsed": false,
    "pycharm": {
     "name": "#%%\n",
     "is_executing": false
    }
   }
  },
  {
   "cell_type": "markdown",
   "source": [
    "## Correcting for Ambiguity\n",
    "\n",
    "To correct for ambiguity all you need to do is set a file, called SetAmbiguous.csv by default but you can call it \n",
    "something else as long as you tell the method its name, where each row has sets a one to one relation. So for example \n",
    "our first relation of Denvialg being related to Ecanlor\tand Danlhigh in 1951, we will just set it to be part of Ecanlor.\n",
    "Once we have made these corrections, we can create lists of all the unqiue names via write_linked_unique"
   ],
   "metadata": {
    "collapsed": false,
    "pycharm": {
     "name": "#%% md\n"
    }
   }
  },
  {
   "cell_type": "code",
   "execution_count": null,
   "outputs": [],
   "source": [
    "ref_holder.write_linked_unique()"
   ],
   "metadata": {
    "collapsed": false,
    "pycharm": {
     "name": "#%%\n"
    }
   }
  },
  {
   "cell_type": "markdown",
   "source": [
    "## Adding alternative names\n",
    "\n",
    "In your datasets, external files, or just from shapefiles changing names you can now use these unique files to create\n",
    "our Place Reference. The write_linked_unique will not over-ride files, this is because these edits are done manually \n",
    "due to often having to look up external names. **HOWEVER** if you are in a position to update Unique names via scripts \n",
    "then i would strongly recommend doing so! In this case i have edited unique districts to contain a alternative name for\n",
    "Ecanlor that was found in a hypothetical dataset based on a differing language. Once you have updated all the \n",
    "alternative names for your unique places you can construct the actual reference"
   ],
   "metadata": {
    "collapsed": false,
    "pycharm": {
     "name": "#%% md\n"
    }
   }
  },
  {
   "cell_type": "code",
   "execution_count": 4,
   "outputs": [],
   "source": [
    "ref_holder.construct_reference()"
   ],
   "metadata": {
    "collapsed": false,
    "pycharm": {
     "name": "#%%\n",
     "is_executing": false
    }
   }
  },
  {
   "cell_type": "markdown",
   "source": [
    "## Output\n",
    "\n",
    "What this has done, is allowed us to construct a reference that we can now us across all datasets that we want to \n",
    "weight. Any District called Ezandlor will be standardised back to Ecanlor and this means that the parish Ogardnep will\n",
    "only ever have a single reference. For our actual weighting example, we only have a single set of external data that \n",
    "we don't need to standardise\n",
    "\n",
    "|GID|Parish   |Districts|Alt_Districts_1|\n",
    "|---|---------|---------|---------------|\n",
    "|2  |Denvialg |Danlhigh |               |\n",
    "|8  |Ogardnep |Ecanlor  |Ezandlor       |\n",
    "|5  |Nebahekal|Ecanlor  |Ezandlor       |\n",
    "|4  |Nalmacn  |Danlhigh |               |\n",
    "|6  |Nidodog  |Ecanlor  |Ezandlor       |\n",
    "|4  |Nalmacn  |Ecanlor  |Ezandlor       |\n",
    "|2  |Denvialg |Ecanlor  |Ezandlor       |\n",
    "|7  |Nirghol  |Nirghol  |               |\n",
    "|3  |Dinram   |Danlhigh |               |"
   ],
   "metadata": {
    "collapsed": false,
    "pycharm": {
     "name": "#%% md\n"
    }
   }
  }
 ],
 "metadata": {
  "kernelspec": {
   "display_name": "Python 3",
   "language": "python",
   "name": "python3"
  },
  "language_info": {
   "codemirror_mode": {
    "name": "ipython",
    "version": 2
   },
   "file_extension": ".py",
   "mimetype": "text/x-python",
   "name": "python",
   "nbconvert_exporter": "python",
   "pygments_lexer": "ipython2",
   "version": "2.7.6"
  },
  "pycharm": {
   "stem_cell": {
    "cell_type": "raw",
    "source": [],
    "metadata": {
     "collapsed": false
    }
   }
  }
 },
 "nbformat": 4,
 "nbformat_minor": 0
}