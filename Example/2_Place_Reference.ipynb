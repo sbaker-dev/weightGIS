{
 "cells": [
  {
   "cell_type": "markdown",
   "source": [
    "# Place Reference \n",
    "\n",
    "## Background\n",
    "\n",
    "When using lots of different data sets it is possible to end up with differing naming systems, for example using welsh\n",
    "names rather than english for places in Wales or just places changing their names over time. To fix this we need to \n",
    "create a place reference, which will allow any name for a given place to be linked back to a single standardised name \n",
    "for our system. This means that we can merge in lots of different data-sets but maintain cohesion.\n",
    "\n",
    "In this example we will be assuming we had data at a sub-unit level, and we want to create a link between our sub-units\n",
    "and units over the time period. This often makes working with data simpler, as whilst you can and indeed must for your\n",
    "base units provide a geographic id (GID), a number may not give you a good idea of where an error actually is placed\n",
    "in your shapefile.\n",
    "\n",
    "We will be using shapefiles from ReferenceCreation folder in the shapefile, which we set as a 'parish', and our\n",
    "shapefiles we used in tutorial 1 as our 'districts'. We will be using parishes as base level here, in general you always\n",
    "want to have the base level be the lowest level of separation you are using. You can have as many different match levels\n",
    "as you want, but here we will just be using two. \n",
    "\n",
    "## Initialisation \n",
    "\n",
    "To start with we want to initialise our PlaceReference object, to do so we provide the working directory where all the\n",
    "output files will be stored, as well as the name of the base level, your lowest level shapefile, and a list of all other\n",
    "names; because you can submit multiple levels even if you are working with a single additional level it **must** be \n",
    "provided as a list!"
   ],
   "metadata": {
    "collapsed": false,
    "pycharm": {
     "name": "#%% md\n"
    }
   }
  },
  {
   "cell_type": "code",
   "execution_count": 1,
   "outputs": [],
   "source": [
    "from weightGIS import PlaceReference\n",
    "\n",
    "ref_holder = PlaceReference(\"ExampleData/ReferenceOutput\", \"Parishes\", [\"Districts\"])"
   ],
   "metadata": {
    "collapsed": false,
    "pycharm": {
     "name": "#%%\n",
     "is_executing": false
    }
   }
  },
  {
   "cell_type": "markdown",
   "source": [
    "## Linking places across time\n",
    "\n",
    "We now want to link places across time. To do this we need to provide, as a string, a path to your lowest level \n",
    "shapefile directory; where all files within it are shapefiles you want to use as the lowest level base. This is our\n",
    "*parishes* variable in this instance. Then we provide a list of other levels we want to relate to, in this case we want\n",
    "to link to our districts so we provide a path to this as well. \n",
    "\n",
    "Finally we need to provide a list of lists, where each sub list is a list of indexes of the columns in the shapefile \n",
    "record's you want to use as a name. The list should be provided in the same order as your shapefiles, with the base \n",
    "being the first. If you want to use multiple columns for the name, provide more than one index per sub list. If the \n",
    "first column is not the GID in your base district, you will need to change this as well; in our case we don't need to\n",
    "change this.\n",
    "\n",
    "Once these are set it can run, you will see that we get some Ambiguous Relations. This is done on purpose, as for a \n",
    "unique reference to work each place can only have a single link to a single place. So parishes must be nested within \n",
    "districts etc. If you have data that does not allow for this, you will need to consider a different way of constructing \n",
    "your reference. Here we will assume that these ambiguous relations are from minor errors in the shapefile."
   ],
   "metadata": {
    "collapsed": false,
    "pycharm": {
     "name": "#%% md\n"
    }
   }
  },
  {
   "cell_type": "code",
   "execution_count": 2,
   "outputs": [
    {
     "name": "stdout",
     "text": [
      "\n",
      "Processing 1931.shp contains 9 polygons\n",
      "\n",
      "Processing 1951.shp contains 9 polygons\n",
      "Ambiguous Relationship found for Denvialg in 1951 for ['Ecanlor', 'Danlhigh']\n",
      "Ambiguous Relationship found for Nalmacn in 1951 for ['Ecanlor', 'Danlhigh']\n",
      "Ambiguous Relationship found for Nebahekal in 1951 for ['Ecanlor', 'Danlhigh']\n",
      "Please validate the 3 ambiguous relations before proceeding by creating a filecalled 'SetAmbiguous.csv' where there is now only a single relation for each ambiguous link\n"
     ],
     "output_type": "stream"
    }
   ],
   "source": [
    "parishes = \"ExampleData/ReferenceCreation\"\n",
    "districts = [\"ExampleData/Shapefiles\"]\n",
    "indexes = [[1],\n",
    "           [1]]\n",
    "\n",
    "ref_holder.link_places_across_time(parishes, districts, indexes)"
   ],
   "metadata": {
    "collapsed": false,
    "pycharm": {
     "name": "#%%\n",
     "is_executing": false
    }
   }
  },
  {
   "cell_type": "markdown",
   "source": [
    "## Correcting for Ambiguity\n",
    "\n",
    "To correct for ambiguity all you need to do is set a file, called SetAmbiguous.csv by default but you can call it \n",
    "something else as long as you tell the method its name, where each row has sets a one to one relation. So for example \n",
    "our first relation of Denvialg being related to Ecanlor\tand Danlhigh in 1951, we will just set it to be part of Ecanlor.\n",
    "The file should not have any file headers. Once we have made these corrections, we can create lists of all the unqiue \n",
    "names via write_linked_unique"
   ],
   "metadata": {
    "collapsed": false,
    "pycharm": {
     "name": "#%% md\n"
    }
   }
  },
  {
   "cell_type": "code",
   "execution_count": 3,
   "outputs": [],
   "source": [
    "ref_holder.write_linked_unique()"
   ],
   "metadata": {
    "collapsed": false,
    "pycharm": {
     "name": "#%%\n",
     "is_executing": false
    }
   }
  },
  {
   "cell_type": "markdown",
   "source": [
    "## Adding alternative names\n",
    "\n",
    "In your datasets, external files, or just from shapefiles changing names you can now use these unique files to create\n",
    "our Place Reference. The write_linked_unique will not over-ride files, this is because these edits are done manually \n",
    "due to often having to look up external names. **HOWEVER** if you are in a position to update Unique names via scripts \n",
    "then i would strongly recommend doing so! \n",
    "\n",
    "In this case i have edited unique districts to contain a alternative name for Ecanlor that was found in a hypothetical\n",
    "dataset based on a differing language. When updating the unique, each additional column must contain the same name as \n",
    "the previous with a number on the end. For example if your base level is *Districts*, then the first column of \n",
    "alternative names for *Districts* would be *Districts1*. Once you have updated all the alternative names for your \n",
    "unique places you can construct the actual reference."
   ],
   "metadata": {
    "collapsed": false,
    "pycharm": {
     "name": "#%% md\n"
    }
   }
  },
  {
   "cell_type": "code",
   "execution_count": 4,
   "outputs": [],
   "source": [
    "ref_holder.construct_reference()"
   ],
   "metadata": {
    "collapsed": false,
    "pycharm": {
     "name": "#%%\n",
     "is_executing": false
    }
   }
  },
  {
   "cell_type": "markdown",
   "source": [
    "## Output\n",
    "\n",
    "What this has done, is allowed us to construct a reference that we can now us across all datasets that we want to \n",
    "weight. Any District called Ezandlor will be standardised back to Ecanlor and this means that the parish Ogardnep will\n",
    "only ever have a single reference. For our actual weighting example, we only have a single set of external data that \n",
    "we don't need to standardise\n",
    "\n",
    "|GID|Parish   |Districts|Alt_Districts_1|\n",
    "|---|---------|---------|---------------|\n",
    "|2  |Denvialg |Danlhigh |               |\n",
    "|8  |Ogardnep |Ecanlor  |Ezandlor       |\n",
    "|5  |Nebahekal|Ecanlor  |Ezandlor       |\n",
    "|4  |Nalmacn  |Danlhigh |               |\n",
    "|6  |Nidodog  |Ecanlor  |Ezandlor       |\n",
    "|4  |Nalmacn  |Ecanlor  |Ezandlor       |\n",
    "|2  |Denvialg |Ecanlor  |Ezandlor       |\n",
    "|7  |Nirghol  |Nirghol  |               |\n",
    "|3  |Dinram   |Danlhigh |               |"
   ],
   "metadata": {
    "collapsed": false,
    "pycharm": {
     "name": "#%% md\n"
    }
   }
  }
 ],
 "metadata": {
  "kernelspec": {
   "display_name": "Python 3",
   "language": "python",
   "name": "python3"
  },
  "language_info": {
   "codemirror_mode": {
    "name": "ipython",
    "version": 2
   },
   "file_extension": ".py",
   "mimetype": "text/x-python",
   "name": "python",
   "nbconvert_exporter": "python",
   "pygments_lexer": "ipython2",
   "version": "2.7.6"
  },
  "pycharm": {
   "stem_cell": {
    "cell_type": "raw",
    "source": [],
    "metadata": {
     "collapsed": false
    }
   }
  }
 },
 "nbformat": 4,
 "nbformat_minor": 0
}