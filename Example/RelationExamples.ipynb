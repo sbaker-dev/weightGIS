{
 "cells": [
  {
   "cell_type": "markdown",
   "metadata": {
    "collapsed": true,
    "pycharm": {
     "name": "#%% md\n"
    }
   },
   "source": [
    "## Adjacent Polygons\n",
    "\n",
    "It is also it extract an adjacent polygon relation via AdjacentRelations. This looks for common points in shapes within\n",
    "your shapefile and then creates a link json file based on the record index you want."
   ]
  },
  {
   "cell_type": "code",
   "execution_count": 1,
   "outputs": [
    {
     "name": "stdout",
     "text": [
      "0 / 3\n",
      "Constructed Overlap\n"
     ],
     "output_type": "stream"
    }
   ],
   "source": [
    "from weightGIS.AdjacentRelations import AdjacentRelations\n",
    "project_directory = \"ExampleData\"\n",
    "base_shape = \"1951.shp\"\n",
    "\n",
    "AdjacentRelations(f\"{project_directory}/Shapefiles/{base_shape}\", 1, project_directory, \"Adjacent\").border_overlap()"
   ],
   "metadata": {
    "collapsed": false,
    "pycharm": {
     "name": "#%%\n",
     "is_executing": false
    }
   }
  },
  {
   "cell_type": "markdown",
   "source": [
    "So in this case, we use the record index of 1 to isolate the names. This shows each place relationship with the shapes \n",
    "that border it. \n",
    "\n",
    "```json\n",
    "{\n",
    "    \"Danlhigh\": [\n",
    "        \"Ecanlor\"\n",
    "    ],\n",
    "    \"Ecanlor\": [\n",
    "        \"Nirghol\",\n",
    "        \"Danlhigh\"\n",
    "    ],\n",
    "    \"Nirghol\": [\n",
    "        \"Ecanlor\"\n",
    "    ]\n",
    "}\n",
    "```"
   ],
   "metadata": {
    "collapsed": false
   }
  },
  {
   "cell_type": "markdown",
   "source": [
    "\n"
   ],
   "metadata": {
    "collapsed": false
   }
  }
 ],
 "metadata": {
  "kernelspec": {
   "display_name": "Python 3",
   "language": "python",
   "name": "python3"
  },
  "language_info": {
   "codemirror_mode": {
    "name": "ipython",
    "version": 2
   },
   "file_extension": ".py",
   "mimetype": "text/x-python",
   "name": "python",
   "nbconvert_exporter": "python",
   "pygments_lexer": "ipython2",
   "version": "2.7.6"
  },
  "pycharm": {
   "stem_cell": {
    "cell_type": "raw",
    "source": [],
    "metadata": {
     "collapsed": false
    }
   }
  }
 },
 "nbformat": 4,
 "nbformat_minor": 0
}