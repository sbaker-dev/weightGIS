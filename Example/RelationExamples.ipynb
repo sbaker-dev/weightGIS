{
 "cells": [
  {
   "cell_type": "markdown",
   "metadata": {
    "collapsed": true,
    "pycharm": {
     "name": "#%% md\n"
    }
   },
   "source": [
    "## Adjacent Polygons\n",
    "\n",
    "It is also it extract an adjacent polygon relation via AdjacentRelations. This looks for common points in shapes within\n",
    "your shapefile and then creates a link json file based on the record index you want."
   ]
  },
  {
   "cell_type": "code",
   "execution_count": 3,
   "outputs": [
    {
     "name": "stdout",
     "text": [
      "0 / 3\n",
      "Constructed Overlap 12:25\n"
     ],
     "output_type": "stream"
    }
   ],
   "source": [
    "from weightGIS.AdjacentRelations import AdjacentRelations\n",
    "project_directory = \"ExampleData\"\n",
    "base_shape = \"1951.shp\"\n",
    "\n",
    "AdjacentRelations(f\"{project_directory}/Shapefiles/{base_shape}\", 1, project_directory, \"Adjacent\").border_overlap()"
   ],
   "metadata": {
    "collapsed": false,
    "pycharm": {
     "name": "#%%\n",
     "is_executing": false
    }
   }
  },
  {
   "cell_type": "markdown",
   "source": [
    "#### Output\n",
    "So in this case, we use the record index of 1 to isolate the names. This shows each place relationship with the shapes \n",
    "that border it. \n",
    "\n",
    "```json\n",
    "{\n",
    "    \"Danlhigh\": [\n",
    "        \"Ecanlor\"\n",
    "    ],\n",
    "    \"Ecanlor\": [\n",
    "        \"Nirghol\",\n",
    "        \"Danlhigh\"\n",
    "    ],\n",
    "    \"Nirghol\": [\n",
    "        \"Ecanlor\"\n",
    "    ]\n",
    "}\n",
    "```"
   ],
   "metadata": {
    "collapsed": false
   }
  },
  {
   "cell_type": "markdown",
   "source": [
    "### Geo-relations\n",
    "\n",
    "This will construct a geo-relation csv from a base shapefile relative to a list of other shapefiles based on \n",
    "intersection of geometry. For this to work your base shapefile must be the lowest level, otherwise you will end up with \n",
    "large levels of ambiguity\n",
    "\n",
    "In this example we will use the sub unit shapefile of 1921.shp as our base lowest level and then relate it to the\n",
    "districts in 1951. Clearly in actually use cases you should use shapefiles within the same time period, and potentially\n",
    "that have been weighted by using methods such as the weightGIS pipeline shown in the weightGIS example.ipynb, this is\n",
    "just for examples sake. \n",
    "\n",
    "Then we want to set our other shapefiles. Regardless of the number submitted this must be a iterable like a list even if\n",
    "you only want one relation. Our shapefiles have three records, id, location, and scarlet. Here we just want the \n",
    "geographic relation so we want the indexes 0 and 1 for both our base and our alternative shapefiles to be extracted, \n",
    "which we do in the indexes variable.\n",
    "\n",
    "Then we provide the headers, keep in mind that regardless of the number of variables you extract the SqKM and SqMiles \n",
    "will also be extracted so keep those in mind!\n",
    "\n",
    "We then submit our base path, other shapefiles list of paths, the indexes and headers to the Lookup Constructor and \n",
    "call construct_lookup with the path you want to save this csv to and the Name of it.\n"
   ],
   "metadata": {
    "collapsed": false
   }
  },
  {
   "cell_type": "code",
   "execution_count": 4,
   "outputs": [
    {
     "name": "stdout",
     "text": [
      "Loading Shapefiles into memory...\n",
      "0/9\n",
      "Constructed GeoRelations 12:25\n"
     ],
     "output_type": "stream"
    }
   ],
   "source": [
    "from weightGIS import GeoLookup\n",
    "\n",
    "indexes = [[0, 1], [0, 1]]\n",
    "headers = [\"PID\", \"Parish\", \"ParishSqKM\", \"ParishSqMiles\", \"DID\", \"District\", \"DistrictSqKM\", \"DistrictSqMiles\"]\n",
    "\n",
    "GeoLookup(f\"{project_directory}/1921.shp\", [f\"{project_directory}/Shapefiles/1951.shp\"], indexes, headers\n",
    "          ).construct_lookup(project_directory, \"GeoRelations\")\n"
   ],
   "metadata": {
    "collapsed": false,
    "pycharm": {
     "name": "#%% \n",
     "is_executing": false
    }
   }
  },
  {
   "cell_type": "markdown",
   "source": [
    "#### Output\n",
    "This will produce a GeoRelations.csv with the following content, you can have as many relations as you want and the \n",
    "order will be determined by the order submitted in the list.\n",
    "\n",
    "|PID|Parish   |ParishSqKM  |ParishSqMiles  |DID|District|DistrictSqKM |DistrictSqMiles  |\n",
    "|---|---------|------------|---------------|---|--------|-------------|-----------------|\n",
    "|6  |Nidodog  |0.0435      |0.0168         |1  |Ecanlor |0.1668       |0.0644           |\n",
    "|9  |Wetlands |0.0760      |0.0293         |2  |Nirghol |0.1370       |0.0529           |\n",
    "|2  |Denvialg |0.0471      |0.0182         |1  |Ecanlor |0.1668       |0.0644           |\n",
    "|4  |Nalmacn  |0.0514      |0.0198         |1  |Ecanlor |0.1668       |0.0644           |\n",
    "|3  |Aina     |0.0027      |0.0010         |3  |Danlhigh|0.1055       |0.0407           |\n",
    "|3  |Dinram   |0.0171      |0.0066         |3  |Danlhigh|0.1055       |0.0407           |\n",
    "|5  |Nebahekal|0.0627      |0.0242         |3  |Danlhigh|0.1055       |0.0407           |\n",
    "|8  |Ogardnep |0.0475      |0.0183         |1  |Ecanlor |0.1668       |0.0644           |\n",
    "|7  |Nirghol  |0.0609      |0.0235         |2  |Nirghol |0.1370       |0.0529           |\n"
   ],
   "metadata": {
    "collapsed": false,
    "pycharm": {
     "name": "#%% md\n"
    }
   }
  }
 ],
 "metadata": {
  "kernelspec": {
   "display_name": "Python 3",
   "language": "python",
   "name": "python3"
  },
  "language_info": {
   "codemirror_mode": {
    "name": "ipython",
    "version": 2
   },
   "file_extension": ".py",
   "mimetype": "text/x-python",
   "name": "python",
   "nbconvert_exporter": "python",
   "pygments_lexer": "ipython2",
   "version": "2.7.6"
  },
  "pycharm": {
   "stem_cell": {
    "cell_type": "raw",
    "source": [],
    "metadata": {
     "collapsed": false
    }
   }
  }
 },
 "nbformat": 4,
 "nbformat_minor": 0
}