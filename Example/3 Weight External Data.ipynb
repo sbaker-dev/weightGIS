{
 "cells": [
  {
   "cell_type": "markdown",
   "source": [
    "# Weighting External Data\n",
    "\n",
    "## Preparing data for weights\n",
    "\n",
    "To be able to use the weights on external data, this data will need to before formatted, checked, and cleaned into a \n",
    "set format of json files akin to the format below. You need to structure your data in a manner that is geo-level \n",
    "specific. For example if you have state level and district level data they both need their own group. Even if you only \n",
    "have 1 level, you **must** group the data by that level. From there you need to assign unique places, that have unique \n",
    "attributes otherwise they will override each other due to how json works. \n",
    "\n",
    "Place names need be ID__NAME in that format specifically. You can have additional information in the name, and ID isn't \n",
    "very human readable which goes against the principle of json, but you must make sure that the ID is the first element as\n",
    "it will be extract by .split(\"__\")[0] with the rest of the information discarded. If you want the place name to be \n",
    "assigned, make sure to have an attribute within the PlaceName that is assigned the name. \n",
    "  \n",
    "```json\n",
    "{\n",
    "    \"Geo-level1\": {\n",
    "        \"PlaceName\": {\n",
    "            \"AttributeA\": {\n",
    "                \"Dates\": [],\n",
    "                \"Values\": []\n",
    "            },\n",
    "            \"AttributeB\": {\n",
    "                \"Dates\": [],\n",
    "                \"Values\": []\n",
    "            },\n",
    "            \"AttributeC\": {\n",
    "                \"Dates\": [],\n",
    "                \"Values\": []\n",
    "            }\n",
    "        }\n",
    "    },\n",
    "    \"Geo-level2\": {\n",
    "        \"PlaceName\": {\n",
    "            \"AttributeA\": {\n",
    "                \"Dates\": [],\n",
    "                \"Values\": []\n",
    "            }\n",
    "        },\n",
    "        \"PlaceName2\": {\n",
    "            \"AttributeA\": {\n",
    "                \"Dates\": [],\n",
    "                \"Values\": []\n",
    "            }\n",
    "        }\n",
    "    }\n",
    "}\n",
    "```\n",
    "##### Example\n",
    "\n",
    "Now we are going to use the example data of ExternalData within our Example directory to construct a weighted dataset \n",
    "given these weights. The file contains some information before 19390401 (when our change occurs) and some after, so its\n",
    "the basic use case for this pipeline.\n",
    "\n",
    "Here we provide the path to the external data file that follows the schema above, the weights by dates file we created\n",
    "early, and a cut of. If you want to include all the data, just set it to something larger than your date range **Note -\n",
    "we should just make this an optional arg, this will change in future**.\n",
    "\n",
    "Then provide the write directory and write name and let the program run. Dates before 19390401 are now weighted based\n",
    "on the weights that you provided, standardising them across the time period.\n"
   ],
   "metadata": {
    "collapsed": false,
    "pycharm": {
     "name": "#%% md\n"
    }
   }
  },
  {
   "cell_type": "code",
   "execution_count": 2,
   "outputs": [
    {
     "name": "stdout",
     "text": [
      "Loading External Data\n",
      "1__Ecanlor\n",
      "2__Nirghol\n",
      "3__Danlhigh\n"
     ],
     "output_type": "stream"
    }
   ],
   "source": [
    "from weightGIS import WeightExternal\n",
    "\n",
    "project_directory = \"ExampleData\"\n",
    "\n",
    "WeightExternal(\"ExampleData/ExternalData.txt\", \"ExampleData/1951_weights_by_dates.txt\", 19390601).weight_external(\n",
    "    project_directory, \"WeightedDatabase\")\n"
   ],
   "metadata": {
    "collapsed": false,
    "pycharm": {
     "name": "#%%\n",
     "is_executing": false
    }
   }
  },
  {
   "cell_type": "markdown",
   "source": [
    "### Accessing values\n",
    "\n",
    "Json may not be a easy way for you to access the data, so there are several methods to access it. The first is to just\n",
    "parse it out of the json data directly, which you can do by using the supporting access_weighted method. First we load\n",
    "the data into memory so that we can access that data as much as we want without having to re-load it. Here we use \n",
    "another package of miscSupports to load the json data, which is a required package for weightGIS so you should have it\n",
    "installed"
   ],
   "metadata": {
    "collapsed": false
   }
  },
  {
   "cell_type": "code",
   "execution_count": 3,
   "outputs": [
    {
     "name": "stdout",
     "text": [
      "Loaded Data\n"
     ],
     "output_type": "stream"
    }
   ],
   "source": [
    "from miscSupports import load_json\n",
    "weighted = load_json(\"ExampleData/WeightedDatabase.txt\")\n",
    "print(\"Loaded Data\")"
   ],
   "metadata": {
    "collapsed": false,
    "pycharm": {
     "name": "#%%\n",
     "is_executing": false
    }
   }
  },
  {
   "cell_type": "markdown",
   "source": [
    "#### Retrieving data\n",
    "\n",
    "Lets say you want to extract the data from a given attribute for all places and all times. In this case you just need to\n",
    "change the values of the keys set below and the script will do the rest for you. Keep in mind that keys are \n",
    "**Case Sensitive**, so they must be copied or typed correctly. You can included as many names as you want, but you must\n",
    "leave them within the list, even if you only want a single attribute. You can also use the indexer to isolate any single\n",
    "part of the name that is delimited by '__', in this case we use 1 to extract the name without id.\n",
    "\n",
    "This data is formatted in rows, so its very easy to write it out as a csv if that is the desired end state."
   ],
   "metadata": {
    "collapsed": false
   }
  },
  {
   "cell_type": "code",
   "execution_count": 4,
   "outputs": [
    {
     "name": "stdout",
     "text": [
      "Retrieved Weighted Data 17:5\n",
      "['Ecanlor', 19380701, 859.5424985563471]\n"
     ],
     "output_type": "stream"
    }
   ],
   "source": [
    "from weightGIS import access_weighted\n",
    "from csvObject import write_csv\n",
    "\n",
    "data_request = [\"Births\"]\n",
    "data_out = access_weighted(weighted, data_request, 1)\n",
    "print(data_out[0])\n",
    "write_csv(project_directory, \"Retrieved_Data\", [\"Place\", \"Date\", \"Births\"], data_out)\n"
   ],
   "metadata": {
    "collapsed": false,
    "pycharm": {
     "name": "#%%\n",
     "is_executing": false
    }
   }
  },
  {
   "cell_type": "markdown",
   "source": [
    "### Converting to SQL database\n",
    "\n",
    "Whilst json and accessing via csv may be fine is you just want to extract a column of data and then move on if you need\n",
    "more complex command calls then it may be better to convert the database into an SQL database. The steps to do this are \n",
    "quite simple.\n",
    "\n",
    "First we use the access_weight to request all the data we want, so in this case we will extract Births and Deaths so\n",
    "that we have all the data"
   ],
   "metadata": {
    "collapsed": false
   }
  },
  {
   "cell_type": "code",
   "execution_count": 5,
   "outputs": [
    {
     "name": "stdout",
     "text": [
      "Retrieved Weighted Data 17:5\n"
     ],
     "output_type": "stream"
    }
   ],
   "source": [
    "data_out = access_weighted(weighted, [\"Births\", \"Deaths\"], 1)"
   ],
   "metadata": {
    "collapsed": false,
    "pycharm": {
     "name": "#%%\n",
     "is_executing": false
    }
   }
  },
  {
   "cell_type": "markdown",
   "source": [
    "#### Writing data to SQL\n",
    "\n",
    "we will need the sqlite3 package that is within python 3 natively for this. Set the connection to the location you want\n",
    "to save the information with the name you want to add on the end. The extract the cursor element from the connection so\n",
    "that we can access and add information to it.\n",
    "\n",
    "Then we want to add a table in with each element in our data. The first two rows will always be Place and Data by \n",
    "default which should receive the type of Text and INTEGER (more on SQL types [here][sql_types], although clearly you\n",
    "can edit these out should you wish but most of the methods that the provided SQL reader within this package has to help\n",
    "you use these dataset will not work if you do. We then need to add both Births and Deaths as REALs which act as floats.\n",
    "\n",
    "Its important that you write the table in the order of the row data put in as the for loop after the table will add in\n",
    "the tuple of information into these slots in this order. Now if you want to use the custom provided SQL parser for data\n",
    "like this you can use the ExampleSQL notebook with the examples directory of this repository\n",
    "\n",
    "[sql_types]: https://www.sqlite.org/datatype3.html"
   ],
   "metadata": {
    "collapsed": false
   }
  },
  {
   "cell_type": "code",
   "execution_count": 6,
   "outputs": [
    {
     "name": "stdout",
     "text": [
      "Finished at 17:5\n"
     ],
     "output_type": "stream"
    }
   ],
   "source": [
    "from miscSupports import terminal_time\n",
    "import sqlite3\n",
    "\n",
    "connection = sqlite3.connect(\"ExampleData/SQLData\")\n",
    "c = connection.cursor()\n",
    "\n",
    "# Make the table\n",
    "c.execute(\"\"\"\n",
    "    CREATE TABLE WEIGHTED\n",
    "    (\n",
    "    Place TEXT,\n",
    "    Date INTEGER,\n",
    "    Births REAL,\n",
    "    Deaths REAL \n",
    "    )\n",
    "    \"\"\")\n",
    "\n",
    "for index, row in enumerate(data_out):\n",
    "    c.execute(f'INSERT INTO WEIGHTED VALUES {tuple(row)}')\n",
    "\n",
    "# Commit the file\n",
    "connection.commit()\n",
    "connection.close()\n",
    "print(f\"Finished at {terminal_time()}\")\n",
    "\n"
   ],
   "metadata": {
    "collapsed": false,
    "pycharm": {
     "name": "#%%\n",
     "is_executing": false
    }
   }
  }
 ],
 "metadata": {
  "kernelspec": {
   "display_name": "Python 3",
   "language": "python",
   "name": "python3"
  },
  "language_info": {
   "codemirror_mode": {
    "name": "ipython",
    "version": 2
   },
   "file_extension": ".py",
   "mimetype": "text/x-python",
   "name": "python",
   "nbconvert_exporter": "python",
   "pygments_lexer": "ipython2",
   "version": "2.7.6"
  },
  "pycharm": {
   "stem_cell": {
    "cell_type": "raw",
    "source": [],
    "metadata": {
     "collapsed": false
    }
   }
  }
 },
 "nbformat": 4,
 "nbformat_minor": 0
}