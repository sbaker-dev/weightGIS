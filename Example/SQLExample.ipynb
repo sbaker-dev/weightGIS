{
 "cells": [
  {
   "cell_type": "markdown",
   "metadata": {
    "collapsed": true,
    "pycharm": {
     "name": "#%% md\n"
    }
   },
   "source": [
    "### Using SQLParser to extract information from a sqlite3 database\n",
    "\n",
    "This worksheet takes the output of our weightGIS Example.ipynb file and then shows you some other ways you can extract \n",
    "data from it. If you have a SQL database with Place and Date columns this should also work even if the output was not \n",
    "from the data constructed by weightGIS"
   ]
  },
  {
   "cell_type": "code",
   "execution_count": 1,
   "outputs": [
    {
     "name": "stdout",
     "text": [
      "Loaded data\n"
     ],
     "output_type": "stream"
    }
   ],
   "source": [
    "from weightGIS import SQLParser\n",
    "\n",
    "database = SQLParser(\"ExampleData/SQLData\")\n",
    "print(\"Loaded data\")"
   ],
   "metadata": {
    "collapsed": false,
    "pycharm": {
     "name": "#%%\n",
     "is_executing": false
    }
   }
  },
  {
   "cell_type": "markdown",
   "source": [
    "### Basic Attributes and requests\n",
    "\n",
    "Most names within the database are case sensitive, but you can extract these from database properties.\n",
    "\n",
    "To make a basic requests lets just extract all the data for a given attribute. Here you just need to give the table the \n",
    "attribute is in as well as the table name. This will return a list of tuples of type (Place, Date, Attribute), where it\n",
    "will return each value for a given place from earliest to latest before moving to the next place. You also have the \n",
    "option to remove missing, which will remove any entry that takes the form of 'NA'\n",
    "\n"
   ],
   "metadata": {
    "collapsed": false,
    "pycharm": {
     "name": "#%% md\n"
    }
   }
  },
  {
   "cell_type": "code",
   "execution_count": 2,
   "outputs": [
    {
     "name": "stdout",
     "text": [
      "['WEIGHTED']\n",
      "['Place', 'Date', 'Births', 'Deaths']\n",
      "[('Ecanlor', 19380701, 859.5424985563471), ('Ecanlor', 19380708, 890.8968985248462), ('Ecanlor', 19380715, 615.8700272980108), ('Ecanlor', 19380722, 747.5706382880921), ('Ecanlor', 19380729, 874.8529588167269), ('Ecanlor', 19380805, 705.4849505879474), ('Ecanlor', 19380812, 700.965517743707), ('Ecanlor', 19380819, 872.900704039575), ('Ecanlor', 19380826, 775.3774656806057), ('Ecanlor', 19380902, 727.6145779962114), ('Ecanlor', 19380909, 928.5681012782728), ('Ecanlor', 19380916, 748.1719533177485), ('Ecanlor', 19380923, 785.0986053729746), ('Ecanlor', 19380930, 1011.680660205253), ('Ecanlor', 19381007, 772.4764163473055), ('Ecanlor', 19381014, 692.2367670218805), ('Ecanlor', 19381021, 657.5424985563471), ('Ecanlor', 19381028, 669.7796108719529), ('Ecanlor', 19381104, 841.9092382802169), ('Ecanlor', 19381111, 691.0986053729746), ('Ecanlor', 19381118, 607.3505944537703), ('Ecanlor', 19381125, 709.4141396529927), ('Ecanlor', 19381202, 672.5424985563471), ('Ecanlor', 19381209, 725.8712958029204), ('Ecanlor', 19381216, 926.5889752742856), ('Ecanlor', 19381223, 853.4985588482277), ('Ecanlor', 19381230, 534.5582985327214), ('Ecanlor', 19390106, 625.807750603698), ('Ecanlor', 19390113, 963.1855615780288), ('Ecanlor', 19390120, 732.1830245682097), ('Ecanlor', 19390127, 525.2661752585352), ('Ecanlor', 19390203, 693.7245999133725), ('Ecanlor', 19390210, 660.8836355582911), ('Ecanlor', 19390217, 751.762542390669), ('Ecanlor', 19390224, 743.5851697595568), ('Ecanlor', 19390303, 513.3505944537703), ('Ecanlor', 19390310, 812.8652985720976), ('Ecanlor', 19390317, 957.3041177358316), ('Ecanlor', 19390324, 518.1561533413742), ('Ecanlor', 19390331, 911.9898519607232), ('Ecanlor', 19390407, 765.0), ('Ecanlor', 19390414, 583.0), ('Ecanlor', 19390421, 560.0), ('Ecanlor', 19390428, 980.0), ('Ecanlor', 19390505, 529.0), ('Ecanlor', 19390512, 532.0), ('Ecanlor', 19390519, 723.0), ('Ecanlor', 19390526, 530.0), ('Nirghol', 19380701, 852.0), ('Nirghol', 19380708, 971.0), ('Nirghol', 19380715, 762.0), ('Nirghol', 19380722, 675.0), ('Nirghol', 19380729, 611.0), ('Nirghol', 19380805, 525.0), ('Nirghol', 19380812, 936.0), ('Nirghol', 19380819, 513.0), ('Nirghol', 19380826, 923.0), ('Nirghol', 19380902, 544.0), ('Nirghol', 19380909, 599.0), ('Nirghol', 19380916, 681.0), ('Nirghol', 19380923, 811.0), ('Nirghol', 19380930, 760.0), ('Nirghol', 19381007, 875.0), ('Nirghol', 19381014, 985.0), ('Nirghol', 19381021, 877.0), ('Nirghol', 19381028, 634.0), ('Nirghol', 19381104, 886.0), ('Nirghol', 19381111, 909.0), ('Nirghol', 19381118, 869.0), ('Nirghol', 19381125, 572.0), ('Nirghol', 19381202, 839.0), ('Nirghol', 19381209, 722.0), ('Nirghol', 19381216, 833.0), ('Nirghol', 19381223, 902.0), ('Nirghol', 19381230, 595.0), ('Nirghol', 19390106, 524.0), ('Nirghol', 19390113, 505.0), ('Nirghol', 19390120, 932.0), ('Nirghol', 19390127, 502.0), ('Nirghol', 19390203, 871.0), ('Nirghol', 19390210, 756.0), ('Nirghol', 19390217, 620.0), ('Nirghol', 19390224, 991.0), ('Nirghol', 19390303, 990.0), ('Nirghol', 19390310, 952.0), ('Nirghol', 19390317, 667.0), ('Nirghol', 19390324, 775.0), ('Nirghol', 19390331, 936.0), ('Nirghol', 19390407, 965.0), ('Nirghol', 19390414, 913.0), ('Nirghol', 19390421, 822.0), ('Nirghol', 19390428, 667.0), ('Nirghol', 19390505, 836.0), ('Nirghol', 19390512, 718.0), ('Nirghol', 19390519, 562.0), ('Nirghol', 19390526, 839.0), ('Nirghol', 19390602, 758.0), ('Nirghol', 19390609, 954.0), ('Nirghol', 19390616, 889.0), ('Nirghol', 19390623, 545.0), ('Nirghol', 19390630, 534.0), ('Danlhigh', 19380701, 671.4447068996276), ('Danlhigh', 19380708, 958.0848449328018), ('Danlhigh', 19380715, 903.1127636661656), ('Danlhigh', 19380722, 619.4175585579898), ('Danlhigh', 19380729, 795.1318897495589), ('Danlhigh', 19380805, 882.4982331911772), ('Danlhigh', 19380812, 587.0232963830077), ('Danlhigh', 19380819, 637.0871561079799), ('Danlhigh', 19380826, 662.6099081246324), ('Danlhigh', 19380902, 782.3705137412327), ('Danlhigh', 19380909, 833.4160177745377), ('Danlhigh', 19380916, 972.8095095577936), ('Danlhigh', 19380923, 968.8829323244626), ('Danlhigh', 19380930, 625.3074244079864), ('Danlhigh', 19381007, 828.5077962328737), ('Danlhigh', 19381014, 922.7456498328216), ('Danlhigh', 19381021, 671.4447068996276), ('Danlhigh', 19381028, 791.2053125162278), ('Danlhigh', 19381104, 691.0775930662833), ('Danlhigh', 19381111, 968.8829323244626), ('Danlhigh', 19381118, 607.6378268579963), ('Danlhigh', 19381125, 664.573196741298), ('Danlhigh', 19381202, 671.4447068996276), ('Danlhigh', 19381209, 796.1135340578917), ('Danlhigh', 19381216, 620.3992028663225), ('Danlhigh', 19381223, 508.4917517163846), ('Danlhigh', 19381230, 886.4248104245083), ('Danlhigh', 19390106, 739.1781641745899), ('Danlhigh', 19390113, 598.8030280830012), ('Danlhigh', 19390120, 812.8014872995492), ('Danlhigh', 19390127, 763.7192718829097), ('Danlhigh', 19390203, 788.2603795912294), ('Danlhigh', 19390210, 529.1062821913732), ('Danlhigh', 19390217, 683.2244385996211), ('Danlhigh', 19390224, 941.3968916911444), ('Danlhigh', 19390303, 607.6378268579963), ('Danlhigh', 19390310, 528.1246378830404), ('Danlhigh', 19390317, 658.6833308913014), ('Danlhigh', 19390324, 757.829406032913), ('Danlhigh', 19390331, 855.9938368661918), ('Danlhigh', 19390407, 548.0), ('Danlhigh', 19390414, 678.0), ('Danlhigh', 19390421, 528.0), ('Danlhigh', 19390428, 644.0), ('Danlhigh', 19390505, 875.0), ('Danlhigh', 19390512, 543.0), ('Danlhigh', 19390519, 804.0), ('Danlhigh', 19390526, 503.0)]\n"
     ],
     "output_type": "stream"
    }
   ],
   "source": [
    "print(database.table_names)\n",
    "print(database.table_attributes(\"WEIGHTED\"))\n",
    "all_data = database.extract_attribute(\"WEIGHTED\", \"Births\")\n",
    "without_missing = database.extract_attribute(\"WEIGHTED\", \"Births\", remove_missing=True)\n",
    "\n",
    "print(all_data)"
   ],
   "metadata": {
    "collapsed": false,
    "pycharm": {
     "name": "#%%\n",
     "is_executing": false
    }
   }
  },
  {
   "cell_type": "markdown",
   "source": [
    "### Using dates\n",
    "\n",
    "Another filter you can use is extract_with_dates which will extract an attribute within a given range of dates. Dates \n",
    "are given as YYYY-MM-DD in this database. So if you wanted all the dates after and included 1951-01-01 then we can just \n",
    "fill in the first argument, if you want the values less than or equal to this date then pass a None first, and if you \n",
    "want to isolate values in-between then give values to both the greater than and less than argument. In all cases you can\n",
    "remove missing if you wish\n",
    " "
   ],
   "metadata": {
    "collapsed": false
   }
  },
  {
   "cell_type": "code",
   "execution_count": 9,
   "outputs": [
    {
     "name": "stdout",
     "text": [
      "[('Ecanlor', 19381202, 672.5424985563471), ('Ecanlor', 19381209, 725.8712958029204), ('Ecanlor', 19381216, 926.5889752742856), ('Ecanlor', 19381223, 853.4985588482277), ('Ecanlor', 19381230, 534.5582985327214), ('Ecanlor', 19390106, 625.807750603698), ('Ecanlor', 19390113, 963.1855615780288), ('Ecanlor', 19390120, 732.1830245682097), ('Ecanlor', 19390127, 525.2661752585352), ('Nirghol', 19381202, 839.0), ('Nirghol', 19381209, 722.0), ('Nirghol', 19381216, 833.0), ('Nirghol', 19381223, 902.0), ('Nirghol', 19381230, 595.0), ('Nirghol', 19390106, 524.0), ('Nirghol', 19390113, 505.0), ('Nirghol', 19390120, 932.0), ('Nirghol', 19390127, 502.0), ('Danlhigh', 19381202, 671.4447068996276), ('Danlhigh', 19381209, 796.1135340578917), ('Danlhigh', 19381216, 620.3992028663225), ('Danlhigh', 19381223, 508.4917517163846), ('Danlhigh', 19381230, 886.4248104245083), ('Danlhigh', 19390106, 739.1781641745899), ('Danlhigh', 19390113, 598.8030280830012), ('Danlhigh', 19390120, 812.8014872995492), ('Danlhigh', 19390127, 763.7192718829097)]\n"
     ],
     "output_type": "stream"
    }
   ],
   "source": [
    "greater_than_or_equal_to = database.extract_with_dates(\"WEIGHTED\", \"Births\", 19390101)\n",
    "less_than_or_equal_to = database.extract_with_dates(\"WEIGHTED\", \"Births\", None, 19390101)\n",
    "greater_and_less = database.extract_with_dates(\"WEIGHTED\", \"Births\", 19381201, 19390130)\n",
    "print(greater_and_less)"
   ],
   "metadata": {
    "collapsed": false,
    "pycharm": {
     "name": "#%%\n",
     "is_executing": false
    }
   }
  },
  {
   "cell_type": "markdown",
   "source": [
    "### Using Places\n",
    "\n",
    "You can also filter on place with extract_with_place which can be assigned a string, a tuple, or a list. The process\n",
    "will handle length 1 lists / tuples so you don't need to filter those out into strings."
   ],
   "metadata": {
    "collapsed": false
   }
  },
  {
   "cell_type": "code",
   "execution_count": 11,
   "outputs": [
    {
     "name": "stdout",
     "text": [
      "[('Danlhigh', 19380701, 671.4447068996276), ('Danlhigh', 19380708, 958.0848449328018), ('Danlhigh', 19380715, 903.1127636661656), ('Danlhigh', 19380722, 619.4175585579898), ('Danlhigh', 19380729, 795.1318897495589), ('Danlhigh', 19380805, 882.4982331911772), ('Danlhigh', 19380812, 587.0232963830077), ('Danlhigh', 19380819, 637.0871561079799), ('Danlhigh', 19380826, 662.6099081246324), ('Danlhigh', 19380902, 782.3705137412327), ('Danlhigh', 19380909, 833.4160177745377), ('Danlhigh', 19380916, 972.8095095577936), ('Danlhigh', 19380923, 968.8829323244626), ('Danlhigh', 19380930, 625.3074244079864), ('Danlhigh', 19381007, 828.5077962328737), ('Danlhigh', 19381014, 922.7456498328216), ('Danlhigh', 19381021, 671.4447068996276), ('Danlhigh', 19381028, 791.2053125162278), ('Danlhigh', 19381104, 691.0775930662833), ('Danlhigh', 19381111, 968.8829323244626), ('Danlhigh', 19381118, 607.6378268579963), ('Danlhigh', 19381125, 664.573196741298), ('Danlhigh', 19381202, 671.4447068996276), ('Danlhigh', 19381209, 796.1135340578917), ('Danlhigh', 19381216, 620.3992028663225), ('Danlhigh', 19381223, 508.4917517163846), ('Danlhigh', 19381230, 886.4248104245083), ('Danlhigh', 19390106, 739.1781641745899), ('Danlhigh', 19390113, 598.8030280830012), ('Danlhigh', 19390120, 812.8014872995492), ('Danlhigh', 19390127, 763.7192718829097), ('Danlhigh', 19390203, 788.2603795912294), ('Danlhigh', 19390210, 529.1062821913732), ('Danlhigh', 19390217, 683.2244385996211), ('Danlhigh', 19390224, 941.3968916911444), ('Danlhigh', 19390303, 607.6378268579963), ('Danlhigh', 19390310, 528.1246378830404), ('Danlhigh', 19390317, 658.6833308913014), ('Danlhigh', 19390324, 757.829406032913), ('Danlhigh', 19390331, 855.9938368661918), ('Danlhigh', 19390407, 548.0), ('Danlhigh', 19390414, 678.0), ('Danlhigh', 19390421, 528.0), ('Danlhigh', 19390428, 644.0), ('Danlhigh', 19390505, 875.0), ('Danlhigh', 19390512, 543.0), ('Danlhigh', 19390519, 804.0), ('Danlhigh', 19390526, 503.0)]\n"
     ],
     "output_type": "stream"
    }
   ],
   "source": [
    "place_attribute_data = database.extract_with_place(\"WEIGHTED\", \"Births\", \"Danlhigh\", remove_missing=True)\n",
    "place_single = database.extract_with_place(\"WEIGHTED\", \"Births\", (\"Danlhigh\", \"Ecanlor\"), remove_missing=True)\n",
    "place_multiple = database.extract_with_place(\"WEIGHTED\", \"Births\", [\"Danlhigh\", \"Ecanlor\"], remove_missing=True)\n",
    "\n",
    "print(place_attribute_data)"
   ],
   "metadata": {
    "collapsed": false,
    "pycharm": {
     "name": "#%%\n",
     "is_executing": false
    }
   }
  },
  {
   "cell_type": "markdown",
   "source": [
    "### Nesting Commands\n",
    "\n",
    "You may also nest commands by submitting a dict of each command you want to run with its respective commands. \n",
    "**IMPORTANTLY**, you need to submit remove_missing separately to nested, rather than as a nested command of each \n",
    "argument. This can be effected on smaller requests but can be slow if running on larger requests"
   ],
   "metadata": {
    "collapsed": false
   }
  },
  {
   "cell_type": "code",
   "execution_count": 12,
   "outputs": [
    {
     "name": "stdout",
     "text": [
      "[('Danlhigh', 19381202, 671.4447068996276), ('Danlhigh', 19381209, 796.1135340578917), ('Danlhigh', 19381216, 620.3992028663225), ('Danlhigh', 19381223, 508.4917517163846), ('Danlhigh', 19381230, 886.4248104245083), ('Danlhigh', 19390106, 739.1781641745899), ('Danlhigh', 19390113, 598.8030280830012), ('Danlhigh', 19390120, 812.8014872995492), ('Danlhigh', 19390127, 763.7192718829097)]\n"
     ],
     "output_type": "stream"
    }
   ],
   "source": [
    "nested_call = database.nested({\"extract_with_place\": [\"WEIGHTED\", \"Births\", \"Danlhigh\"],\n",
    "                               \"extract_with_dates\": [\"WEIGHTED\", \"Births\", 19381201, 19390130]}, remove_missing=True)\n",
    "\n",
    "print(nested_call)"
   ],
   "metadata": {
    "collapsed": false,
    "pycharm": {
     "name": "#%%\n",
     "is_executing": false
    }
   }
  },
  {
   "cell_type": "markdown",
   "source": [
    "### Using place and iteration\n",
    "\n",
    "Sometimes it is less of interest the actual dates, but a number of dates after an occurrence in a given place. In this \n",
    "case you can use extract_with_place_iteration. This takes the same arguments as extract_with_place but has some \n",
    "additional support. You can now set a start date, and a number of iterations to extract. **Keep in mind** that it can\n",
    "only extract the number of iterations if they exist after the start date, if length is a problem you will need to create\n",
    "an assertion to validate it.\n",
    "\n",
    "This method also has the ability to return as rates. This will take the number of values you have isolated, sum them, \n",
    "and divided by a population column which is assigned via as_rates_of {Table: Table_name, Attribute, Population_Name}.\n",
    "You may also change the rate_of to different denominations, it defaults to 1000."
   ],
   "metadata": {
    "collapsed": false,
    "pycharm": {
     "name": "#%% md\n"
    }
   }
  },
  {
   "cell_type": "code",
   "execution_count": 14,
   "outputs": [
    {
     "name": "stdout",
     "text": [
      "[['Danlhigh', 19380805, 882.4982331911772], ['Danlhigh', 19380812, 587.0232963830077], ['Danlhigh', 19380819, 637.0871561079799], ['Danlhigh', 19380826, 662.6099081246324], ['Danlhigh', 19380902, 782.3705137412327], ['Danlhigh', 19380909, 833.4160177745377], ['Danlhigh', 19380916, 972.8095095577936], ['Danlhigh', 19380923, 968.8829323244626], ['Danlhigh', 19380930, 625.3074244079864], ['Danlhigh', 19381007, 828.5077962328737], ['Danlhigh', 19381014, 922.7456498328216], ['Danlhigh', 19381021, 671.4447068996276]]\n",
      "27207.97720797721\n"
     ],
     "output_type": "stream"
    }
   ],
   "source": [
    "place_iteration = database.extract_with_place_iteration(\"WEIGHTED\", \"Births\", \"Danlhigh\", 19380801, 12)                                     \n",
    "rates = database.extract_with_place_iteration(\"WEIGHTED\", \"Births\", \"Danlhigh\", 19380801, 12,\n",
    "                                              as_rate_of={\"Table\": \"WEIGHTED\", \"Attribute\": \"Deaths\"})\n",
    "\n",
    "print(place_iteration)\n",
    "print(rates)"
   ],
   "metadata": {
    "collapsed": false,
    "pycharm": {
     "name": "#%% \n",
     "is_executing": false
    }
   }
  }
 ],
 "metadata": {
  "kernelspec": {
   "display_name": "Python 3",
   "language": "python",
   "name": "python3"
  },
  "language_info": {
   "codemirror_mode": {
    "name": "ipython",
    "version": 2
   },
   "file_extension": ".py",
   "mimetype": "text/x-python",
   "name": "python",
   "nbconvert_exporter": "python",
   "pygments_lexer": "ipython2",
   "version": "2.7.6"
  },
  "pycharm": {
   "stem_cell": {
    "cell_type": "raw",
    "source": [],
    "metadata": {
     "collapsed": false
    }
   }
  }
 },
 "nbformat": 4,
 "nbformat_minor": 0
}